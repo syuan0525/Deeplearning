{
  "nbformat": 4,
  "nbformat_minor": 0,
  "metadata": {
    "colab": {
      "name": "cifar10_gap.ipynb",
      "provenance": [],
      "authorship_tag": "ABX9TyPk6kWMM67/3/WKQT5GHbF9",
      "include_colab_link": true
    },
    "kernelspec": {
      "name": "python3",
      "display_name": "Python 3"
    },
    "language_info": {
      "name": "python"
    },
    "accelerator": "GPU"
  },
  "cells": [
    {
      "cell_type": "markdown",
      "metadata": {
        "id": "view-in-github",
        "colab_type": "text"
      },
      "source": [
        "<a href=\"https://colab.research.google.com/github/syuan0525/Deeplearning/blob/main/cifar10.ipynb\" target=\"_parent\"><img src=\"https://colab.research.google.com/assets/colab-badge.svg\" alt=\"Open In Colab\"/></a>"
      ]
    },
    {
      "cell_type": "code",
      "metadata": {
        "colab": {
          "base_uri": "https://localhost:8080/"
        },
        "id": "6St4my_X7PkH",
        "outputId": "d8100188-cd40-4268-fa18-3ae02ec405a7"
      },
      "source": [
        "from tensorflow.keras.datasets.cifar10 import load_data\n",
        "(x_train,y_train),(x_test,y_test) = load_data()"
      ],
      "execution_count": 1,
      "outputs": [
        {
          "output_type": "stream",
          "name": "stdout",
          "text": [
            "Downloading data from https://www.cs.toronto.edu/~kriz/cifar-10-python.tar.gz\n",
            "170500096/170498071 [==============================] - 11s 0us/step\n",
            "170508288/170498071 [==============================] - 11s 0us/step\n"
          ]
        }
      ]
    },
    {
      "cell_type": "code",
      "metadata": {
        "colab": {
          "base_uri": "https://localhost:8080/"
        },
        "id": "QynGIhUP8AMI",
        "outputId": "4208cf2d-8b1c-4564-ae1e-a7268190457d"
      },
      "source": [
        "print(x_train.shape)\n",
        "print(y_train.shape)\n",
        "print(x_test.shape)\n",
        "print(y_test.shape)"
      ],
      "execution_count": 2,
      "outputs": [
        {
          "output_type": "stream",
          "name": "stdout",
          "text": [
            "(50000, 32, 32, 3)\n",
            "(50000, 1)\n",
            "(10000, 32, 32, 3)\n",
            "(10000, 1)\n"
          ]
        }
      ]
    },
    {
      "cell_type": "code",
      "metadata": {
        "id": "8ajwCz6q_TMC"
      },
      "source": [
        "trans = [\n",
        "      \"airplane\",\t\t\t\t\t\t\t\t\t\t\n",
        "      \"automobile\",\t\t\t\t\t\t\t\t\t\t\n",
        "      \"bird\",\t\t\t\t\t\t\t\t\t\t\n",
        "      \"cat\",\t\t\t\t\t\t\t\t\t\t\n",
        "      \"deer\",\t\t\t\t\t\t\t\t\t\t\n",
        "      \"dog\",\t\t\t\t\t\t\t\t\t\t\n",
        "      \"frog\",\t\t\t\t\t\t\t\t\t\t\n",
        "      \"horse\",\t\t\t\t\t\t\t\t\t\t\n",
        "      \"ship\",\t\t\t\t\t\t\t\t\t\t\n",
        "      \"truck\",\n",
        "]"
      ],
      "execution_count": 3,
      "outputs": []
    },
    {
      "cell_type": "code",
      "metadata": {
        "colab": {
          "base_uri": "https://localhost:8080/",
          "height": 301
        },
        "id": "L9lwmE8B_6aZ",
        "outputId": "884d6b83-fc5b-494a-8ab9-0ae02d80e2ab"
      },
      "source": [
        "import matplotlib.pyplot as plt\n",
        "idx = 2000\n",
        "print(trans[y_train[idx][0]])\n",
        "plt.imshow(x_train[idx])"
      ],
      "execution_count": 4,
      "outputs": [
        {
          "output_type": "stream",
          "name": "stdout",
          "text": [
            "horse\n"
          ]
        },
        {
          "output_type": "execute_result",
          "data": {
            "text/plain": [
              "<matplotlib.image.AxesImage at 0x7fe478c549d0>"
            ]
          },
          "metadata": {},
          "execution_count": 4
        },
        {
          "output_type": "display_data",
          "data": {
            "image/png": "[encoded data removed]",
            "text/plain": [
              "<Figure size 432x288 with 1 Axes>"
            ]
          },
          "metadata": {
            "needs_background": "light"
          }
        }
      ]
    },
    {
      "cell_type": "code",
      "metadata": {
        "colab": {
          "base_uri": "https://localhost:8080/"
        },
        "id": "QcE5bpdrBSX5",
        "outputId": "4d6ba6bb-1216-4842-c48c-b473e1e22991"
      },
      "source": [
        "from tensorflow.keras.models import Sequential\n",
        "from tensorflow.keras.layers import Conv2D, MaxPooling2D\n",
        "from tensorflow.keras.layers import Dense, Flatten, Dropout\n",
        "layers = [\n",
        "    #一個filter: 3(kh) * 3(kw)* 3(last channel) + 1(bias) = 28 \n",
        "    #28 * 64 =1792\n",
        "    Conv2D(64, 3, padding=\"same\", activation=\"relu\",input_shape=(32,32,3)),\n",
        "    #一個filter: 3 * 3 * 64 + 1(bias) = 577 \n",
        "    #128 * 577 = 73856\n",
        "    MaxPooling2D(),\n",
        "    Conv2D(128, 3, padding=\"same\", activation=\"relu\"),\n",
        "    MaxPooling2D(),\n",
        "    Conv2D(256, 3, padding=\"same\", activation=\"relu\"),\n",
        "    MaxPooling2D(),\n",
        "    Flatten(),\n",
        "    Dense(128, activation=\"relu\"),\n",
        "    Dropout(0.25),\n",
        "    Dense(10, activation=\"softmax\")\n",
        "]\n",
        "model = Sequential(layers)\n",
        "model.summary()"
      ],
      "execution_count": 5,
      "outputs": [
        {
          "output_type": "stream",
          "name": "stdout",
          "text": [
            "Model: \"sequential\"\n",
            "_________________________________________________________________\n",
            "Layer (type)                 Output Shape              Param #   \n",
            "=================================================================\n",
            "conv2d (Conv2D)              (None, 32, 32, 64)        1792      \n",
            "_________________________________________________________________\n",
            "max_pooling2d (MaxPooling2D) (None, 16, 16, 64)        0         \n",
            "_________________________________________________________________\n",
            "conv2d_1 (Conv2D)            (None, 16, 16, 128)       73856     \n",
            "_________________________________________________________________\n",
            "max_pooling2d_1 (MaxPooling2 (None, 8, 8, 128)         0         \n",
            "_________________________________________________________________\n",
            "conv2d_2 (Conv2D)            (None, 8, 8, 256)         295168    \n",
            "_________________________________________________________________\n",
            "max_pooling2d_2 (MaxPooling2 (None, 4, 4, 256)         0         \n",
            "_________________________________________________________________\n",
            "flatten (Flatten)            (None, 4096)              0         \n",
            "_________________________________________________________________\n",
            "dense (Dense)                (None, 128)               524416    \n",
            "_________________________________________________________________\n",
            "dropout (Dropout)            (None, 128)               0         \n",
            "_________________________________________________________________\n",
            "dense_1 (Dense)              (None, 10)                1290      \n",
            "=================================================================\n",
            "Total params: 896,522\n",
            "Trainable params: 896,522\n",
            "Non-trainable params: 0\n",
            "_________________________________________________________________\n"
          ]
        }
      ]
    },
    {
      "cell_type": "code",
      "metadata": {
        "id": "75xI9g8FNL6D"
      },
      "source": [
        "# y : 做One-hot encoding很耗ram,直接用Sparse省RAM又方便\n",
        "from tensorflow.keras.losses import SparseCategoricalCrossentropy \n",
        "model.compile(loss=SparseCategoricalCrossentropy(),\n",
        "       optimizer=\"adam\",       \n",
        "       metrics=[\"accuracy\"])"
      ],
      "execution_count": 6,
      "outputs": []
    },
    {
      "cell_type": "code",
      "metadata": {
        "id": "oiBfinAEPUqZ"
      },
      "source": [
        "x_train_norm = x_train/255.0\n",
        "x_test_norm = x_test/255.0"
      ],
      "execution_count": 7,
      "outputs": []
    },
    {
      "cell_type": "code",
      "metadata": {
        "colab": {
          "base_uri": "https://localhost:8080/"
        },
        "id": "F40D8-ywPpO9",
        "outputId": "1bd1a072-28fa-4426-80f7-4c365d9f456f"
      },
      "source": [
        "# batch_size: 看多少筆資料調整一次梯度(10-200)\n",
        "# = 200: 54000(訓練資料) / 200 -> 270(次)梯度調整\n",
        "# epochs: 54000筆看幾次\n",
        "# = 10: 270 * 10 (次) 梯度調整\n",
        "# validation_split: 0.1\n",
        "# verbose: 1(進度條) 0(啥都沒) 2(不會有進度條)\n",
        "from tensorflow.keras.callbacks import EarlyStopping, ModelCheckpoint\n",
        "callbacks = [\n",
        "    EarlyStopping(patience=5, restore_best_weights=True),\n",
        "    ModelCheckpoint(\"cifar10.h5\", save_best_only=True)\n",
        "]\n",
        "model.fit(x_train_norm,\n",
        "          y_train,\n",
        "          batch_size=200,\n",
        "          epochs=100,\n",
        "          validation_split=0.1,\n",
        "          verbose=2,\n",
        "          callbacks=callbacks)"
      ],
      "execution_count": 8,
      "outputs": [
        {
          "output_type": "stream",
          "name": "stdout",
          "text": [
            "Epoch 1/100\n",
            "225/225 - 37s - loss: 1.6764 - accuracy: 0.3885 - val_loss: 1.3743 - val_accuracy: 0.5006\n",
            "Epoch 2/100\n",
            "225/225 - 6s - loss: 1.2485 - accuracy: 0.5511 - val_loss: 1.0773 - val_accuracy: 0.6220\n",
            "Epoch 3/100\n",
            "225/225 - 6s - loss: 1.0575 - accuracy: 0.6291 - val_loss: 0.9842 - val_accuracy: 0.6520\n",
            "Epoch 4/100\n",
            "225/225 - 6s - loss: 0.9203 - accuracy: 0.6768 - val_loss: 0.8558 - val_accuracy: 0.7008\n",
            "Epoch 5/100\n",
            "225/225 - 6s - loss: 0.8227 - accuracy: 0.7132 - val_loss: 0.7717 - val_accuracy: 0.7324\n",
            "Epoch 6/100\n",
            "225/225 - 6s - loss: 0.7445 - accuracy: 0.7412 - val_loss: 0.7517 - val_accuracy: 0.7426\n",
            "Epoch 7/100\n",
            "225/225 - 6s - loss: 0.6723 - accuracy: 0.7633 - val_loss: 0.7018 - val_accuracy: 0.7606\n",
            "Epoch 8/100\n",
            "225/225 - 6s - loss: 0.6132 - accuracy: 0.7851 - val_loss: 0.7061 - val_accuracy: 0.7624\n",
            "Epoch 9/100\n",
            "225/225 - 6s - loss: 0.5540 - accuracy: 0.8054 - val_loss: 0.6931 - val_accuracy: 0.7612\n",
            "Epoch 10/100\n",
            "225/225 - 6s - loss: 0.4985 - accuracy: 0.8251 - val_loss: 0.6696 - val_accuracy: 0.7780\n",
            "Epoch 11/100\n",
            "225/225 - 6s - loss: 0.4494 - accuracy: 0.8409 - val_loss: 0.7018 - val_accuracy: 0.7752\n",
            "Epoch 12/100\n",
            "225/225 - 6s - loss: 0.4046 - accuracy: 0.8576 - val_loss: 0.6932 - val_accuracy: 0.7778\n",
            "Epoch 13/100\n",
            "225/225 - 6s - loss: 0.3671 - accuracy: 0.8696 - val_loss: 0.7146 - val_accuracy: 0.7696\n",
            "Epoch 14/100\n",
            "225/225 - 6s - loss: 0.3176 - accuracy: 0.8876 - val_loss: 0.7549 - val_accuracy: 0.7690\n",
            "Epoch 15/100\n",
            "225/225 - 6s - loss: 0.2924 - accuracy: 0.8928 - val_loss: 0.7610 - val_accuracy: 0.7692\n"
          ]
        },
        {
          "output_type": "execute_result",
          "data": {
            "text/plain": [
              "<keras.callbacks.History at 0x7fe4786d8650>"
            ]
          },
          "metadata": {},
          "execution_count": 8
        }
      ]
    },
    {
      "cell_type": "code",
      "metadata": {
        "colab": {
          "base_uri": "https://localhost:8080/"
        },
        "id": "atELxFsAQh27",
        "outputId": "5005de82-5741-45db-c802-5788d6db2a6d"
      },
      "source": [
        "model.evaluate(x_test_norm,y_test)"
      ],
      "execution_count": 9,
      "outputs": [
        {
          "output_type": "stream",
          "name": "stdout",
          "text": [
            "313/313 [==============================] - 2s 5ms/step - loss: 0.7041 - accuracy: 0.7641\n"
          ]
        },
        {
          "output_type": "execute_result",
          "data": {
            "text/plain": [
              "[0.7040888071060181, 0.7641000151634216]"
            ]
          },
          "metadata": {},
          "execution_count": 9
        }
      ]
    },
    {
      "cell_type": "code",
      "metadata": {
        "colab": {
          "base_uri": "https://localhost:8080/",
          "height": 375
        },
        "id": "vFIkHj1NZWMb",
        "outputId": "c1fcfbfb-606f-46c2-d3d7-322dae98daf6"
      },
      "source": [
        "import requests\n",
        "from PIL import Image\n",
        "import numpy as np\n",
        "\n",
        "url = input(\"Enter:\")\n",
        "response = requests.get(url, stream=True,verify=False)\n",
        "img = Image.open(response.raw).resize((32,32)).convert(\"RGB\")\n",
        "img_np = np.array(img).reshape(1, 32, 32, 3)/255.0\n",
        "ans = model.predict(img_np).argmax(axis=1)\n",
        "print(\"預測:\", trans[ans[0]])\n",
        "plt.imshow(img)"
      ],
      "execution_count": 12,
      "outputs": [
        {
          "name": "stdout",
          "output_type": "stream",
          "text": [
            "Enter:https://cdn0.techbang.com/system/excerpt_images/80290/original/0a7e31437a6be0675bc9cd13c0b401b1.jpg?1596441451\n"
          ]
        },
        {
          "output_type": "stream",
          "name": "stderr",
          "text": [
            "/usr/local/lib/python3.7/dist-packages/urllib3/connectionpool.py:847: InsecureRequestWarning: Unverified HTTPS request is being made. Adding certificate verification is strongly advised. See: https://urllib3.readthedocs.io/en/latest/advanced-usage.html#ssl-warnings\n",
            "  InsecureRequestWarning)\n"
          ]
        },
        {
          "output_type": "stream",
          "name": "stdout",
          "text": [
            "預測: automobile\n"
          ]
        },
        {
          "output_type": "execute_result",
          "data": {
            "text/plain": [
              "<matplotlib.image.AxesImage at 0x7fe3fda75990>"
            ]
          },
          "metadata": {},
          "execution_count": 12
        },
        {
          "output_type": "display_data",
          "data": {
            "image/png": "[encoded data removed]",
            "text/plain": [
              "<Figure size 432x288 with 1 Axes>"
            ]
          },
          "metadata": {
            "needs_background": "light"
          }
        }
      ]
    }
  ]
}