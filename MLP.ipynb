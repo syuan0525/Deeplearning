{
  "nbformat": 4,
  "nbformat_minor": 0,
  "metadata": {
    "colab": {
      "name": "MLP.ipynb",
      "provenance": [],
      "collapsed_sections": [],
      "authorship_tag": "ABX9TyMtxN/8nSEF+vJhicV65tRc",
      "include_colab_link": true
    },
    "kernelspec": {
      "name": "python3",
      "display_name": "Python 3"
    },
    "language_info": {
      "name": "python"
    },
    "accelerator": "GPU"
  },
  "cells": [
    {
      "cell_type": "markdown",
      "metadata": {
        "id": "view-in-github",
        "colab_type": "text"
      },
      "source": [
        "<a href=\"https://colab.research.google.com/github/syuan0525/Deeplearning/blob/main/MLP.ipynb\" target=\"_parent\"><img src=\"https://colab.research.google.com/assets/colab-badge.svg\" alt=\"Open In Colab\"/></a>"
      ]
    },
    {
      "cell_type": "code",
      "metadata": {
        "id": "zz1cfuvZ6bk6"
      },
      "source": [
        "from tensorflow.keras.datasets.mnist import load_data\n",
        "# ((訓練圖片, 訓練答案), (測試圖片, 測試答案))\n",
        "(x_train,y_train),(x_test,y_test) = load_data()"
      ],
      "execution_count": 1,
      "outputs": []
    },
    {
      "cell_type": "code",
      "metadata": {
        "colab": {
          "base_uri": "https://localhost:8080/"
        },
        "id": "fZ-SJhFa79VR",
        "outputId": "2d208e00-a361-4c3e-e317-ae6de871c1e3"
      },
      "source": [
        "print(x_train.shape)\n",
        "print(y_train.shape)\n",
        "print(x_test.shape)\n",
        "print(y_test.shape)"
      ],
      "execution_count": 2,
      "outputs": [
        {
          "output_type": "stream",
          "name": "stdout",
          "text": [
            "(60000, 28, 28)\n",
            "(60000,)\n",
            "(10000, 28, 28)\n",
            "(10000,)\n"
          ]
        }
      ]
    },
    {
      "cell_type": "code",
      "metadata": {
        "colab": {
          "base_uri": "https://localhost:8080/",
          "height": 300
        },
        "id": "6UcDwWu98Rhf",
        "outputId": "b71b21a6-0f79-4548-e39e-b046713972f0"
      },
      "source": [
        "import matplotlib.pyplot as plt\n",
        "print(y_train[0])\n",
        "#cmap=\"YlGn_r\"\n",
        "plt.imshow(x_train[0],cmap=\"gray\")"
      ],
      "execution_count": 3,
      "outputs": [
        {
          "output_type": "stream",
          "name": "stdout",
          "text": [
            "5\n"
          ]
        },
        {
          "output_type": "execute_result",
          "data": {
            "text/plain": [
              "<matplotlib.image.AxesImage at 0x7f1a6e649d50>"
            ]
          },
          "metadata": {},
          "execution_count": 3
        },
        {
          "output_type": "display_data",
          "data": {
            "image/png": "[encoded data removed]",
            "text/plain": [
              "<Figure size 432x288 with 1 Axes>"
            ]
          },
          "metadata": {
            "needs_background": "light"
          }
        }
      ]
    },
    {
      "cell_type": "code",
      "metadata": {
        "id": "fp4tbid980dm"
      },
      "source": [
        "import pandas as pd\n",
        "pd.DataFrame(x_train[0])"
      ],
      "execution_count": null,
      "outputs": []
    },
    {
      "cell_type": "code",
      "metadata": {
        "colab": {
          "base_uri": "https://localhost:8080/"
        },
        "id": "zoyHCcnvqg5N",
        "outputId": "d891e9e3-8878-4710-891f-ae8336211775"
      },
      "source": [
        "#1.模型(Model,Sequential)2.層\n",
        "from tensorflow.keras.models import Sequential\n",
        "#Dense:稠密層,全連接層(Fully-Connected)\n",
        "from tensorflow.keras.layers import Dense\n",
        "\n",
        "layers = [\n",
        "      #784*256(全連接) + 256(bias) = 200960\n",
        "      Dense(256,activation=\"relu\",input_dim=784),\n",
        "      #256*10(全連接) + 10(bias) = 2570\n",
        "      Dense(10,activation=\"softmax\")\n",
        "]\n",
        "model = Sequential(layers)\n",
        "model.summary()"
      ],
      "execution_count": 5,
      "outputs": [
        {
          "output_type": "stream",
          "name": "stdout",
          "text": [
            "Model: \"sequential\"\n",
            "_________________________________________________________________\n",
            "Layer (type)                 Output Shape              Param #   \n",
            "=================================================================\n",
            "dense (Dense)                (None, 256)               200960    \n",
            "_________________________________________________________________\n",
            "dense_1 (Dense)              (None, 10)                2570      \n",
            "=================================================================\n",
            "Total params: 203,530\n",
            "Trainable params: 203,530\n",
            "Non-trainable params: 0\n",
            "_________________________________________________________________\n"
          ]
        }
      ]
    },
    {
      "cell_type": "code",
      "metadata": {
        "id": "iRm74fuJqxYC"
      },
      "source": [
        "from tensorflow.keras.losses import CategoricalCrossentropy\n",
        "from tensorflow.keras.optimizers import Adam\n",
        "#loss: 分類=cross entropy\n",
        "model.compile(loss=CategoricalCrossentropy(),\n",
        "       optimizer=Adam(),\n",
        "       metrics=[\"accuracy\"])"
      ],
      "execution_count": 6,
      "outputs": []
    },
    {
      "cell_type": "code",
      "metadata": {
        "id": "EXfPeSDupvrq",
        "outputId": "9b8f31b8-2d4f-420f-86fa-e92c8cb978ed",
        "colab": {
          "base_uri": "https://localhost:8080/"
        }
      },
      "source": [
        "#y:One-Hot Encoding\n",
        "from tensorflow.keras.utils import to_categorical\n",
        "y_train_cat = to_categorical(y_train)\n",
        "y_test_cat = to_categorical(y_test)\n",
        "print(y_train[0])\n",
        "print(y_train_cat[0])"
      ],
      "execution_count": 7,
      "outputs": [
        {
          "output_type": "stream",
          "name": "stdout",
          "text": [
            "5\n",
            "[0. 0. 0. 0. 0. 1. 0. 0. 0. 0.]\n"
          ]
        }
      ]
    },
    {
      "cell_type": "code",
      "metadata": {
        "id": "4ZPpZDdejdSH",
        "outputId": "761deb2d-7cff-4fc1-98f7-1181cf6f4f69",
        "colab": {
          "base_uri": "https://localhost:8080/"
        }
      },
      "source": [
        "# x: 28 * 28 ->784\n",
        "#reshape:留一個位置填-1,叫numpy幫你算\n",
        "x_train_norm = x_train.reshape(60000,-1)/255.0\n",
        "x_test_norm = x_test.reshape(10000,-1)/255.0\n",
        "print(x_train_norm.shape)\n",
        "print(x_test_norm.shape)\n",
        "# print(x_train_norm[0])"
      ],
      "execution_count": 8,
      "outputs": [
        {
          "output_type": "stream",
          "name": "stdout",
          "text": [
            "(60000, 784)\n",
            "(10000, 784)\n"
          ]
        }
      ]
    },
    {
      "cell_type": "code",
      "metadata": {
        "id": "x8MSfYC0molD"
      },
      "source": [
        "#batch_size:看多少筆資料調整一次梯度(10-200)\n",
        "# = 200:54000(訓練資料)/200 -> 270(次)梯度調整\n",
        "# = epochs:54000筆看幾次\n",
        "# = 10: 270 * 10 (次) 梯度調整\n",
        "# verbose: 1(進度條) 0(啥都沒) 2(不會有進度條)\n",
        "from tensorflow.keras.callbacks import EarlyStopping,ModelCheckpoint\n",
        "callbacks=[\n",
        "  EarlyStopping(patience=5,restore_best_weights=True),\n",
        "  ModelCheckpoint(\"mnist.h5\",save_best_only=True)\n",
        "]\n",
        "model.fit(x_train_norm,\n",
        "     y_train_cat,\n",
        "     batch_size=200,\n",
        "     epochs=100,\n",
        "     validation_split=0.1,\n",
        "     verbose=2,\n",
        "     callbacks=callbacks)"
      ],
      "execution_count": null,
      "outputs": []
    },
    {
      "cell_type": "code",
      "metadata": {
        "id": "P2vmtkcquZ-t",
        "outputId": "1b162556-f7a1-4f32-a2d2-38d812f0d9f9",
        "colab": {
          "base_uri": "https://localhost:8080/"
        }
      },
      "source": [
        "model.evaluate(x_test_norm,y_test_cat)"
      ],
      "execution_count": 10,
      "outputs": [
        {
          "output_type": "stream",
          "name": "stdout",
          "text": [
            "313/313 [==============================] - 1s 2ms/step - loss: 0.0680 - accuracy: 0.9788\n"
          ]
        },
        {
          "output_type": "execute_result",
          "data": {
            "text/plain": [
              "[0.06801573187112808, 0.9787999987602234]"
            ]
          },
          "metadata": {},
          "execution_count": 10
        }
      ]
    },
    {
      "cell_type": "code",
      "metadata": {
        "id": "O68cq_AdurBK"
      },
      "source": [
        "from sklearn.metrics import confusion_matrix\n",
        "proba = model.predict(x_test_norm)\n",
        "pre = proba.argmax(axis=1)\n",
        "mat = confusion_matrix(y_test,pre)\n",
        "pd.DataFrame(mat,\n",
        "      index=[\"{}(正確)\".format(i) for i in range(10)],\n",
        "      columns=[\"{}(預測)\".format(i) for i in range(10)])"
      ],
      "execution_count": null,
      "outputs": []
    },
    {
      "cell_type": "code",
      "metadata": {
        "id": "MB1o9R3FyX9p"
      },
      "source": [
        "plt.subplot(1,2,1)\n",
        "plt.imshow(x_train[0])\n",
        "plt.subplot(1,2,2)\n",
        "plt.imshow(x_train[1])"
      ],
      "execution_count": null,
      "outputs": []
    },
    {
      "cell_type": "code",
      "metadata": {
        "id": "6uLesfZC1WfQ"
      },
      "source": [
        "import numpy as np\n",
        "idx = np.nonzero(pre != y_test)[0]\n",
        "pre_false_img = x_test[idx]\n",
        "pre_false_val = pre[idx]\n",
        "pre_false_ori = y_test[idx]\n",
        "\n",
        "plt.figure(figsize=(10,35))\n",
        "width = 10\n",
        "height = len(idx)//width + 1\n",
        "for i in range(len(idx)):\n",
        "  plt.subplot(height,width,i+1)\n",
        "  t = \"[o]:{}\\n[p]:{}\".format(pre_false_ori[i],\n",
        "                 pre_false_val[i])\n",
        "  plt.title(t)\n",
        "  plt.axis(\"off\")\n",
        "  plt.imshow(pre_false_img[i],cmap=\"gray\")"
      ],
      "execution_count": null,
      "outputs": []
    }
  ]
}